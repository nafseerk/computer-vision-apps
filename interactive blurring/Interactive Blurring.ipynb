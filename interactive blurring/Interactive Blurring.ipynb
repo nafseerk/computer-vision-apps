{
 "cells": [
  {
   "cell_type": "code",
   "execution_count": null,
   "metadata": {},
   "outputs": [],
   "source": [
    "# standard setup\n",
    "%matplotlib inline\n",
    "import numpy as np\n",
    "import matplotlib.pyplot as plt\n",
    "import cv2\n",
    "\n",
    "# useful helper function\n",
    "from helpers import imshow"
   ]
  },
  {
   "cell_type": "code",
   "execution_count": null,
   "metadata": {},
   "outputs": [],
   "source": [
    "# setup capture\n",
    "camera = cv2.VideoCapture(0)\n",
    "\n",
    "# reduce frame size to speed it up\n",
    "w = 640\n",
    "camera.set(cv2.CAP_PROP_FRAME_WIDTH, w) \n",
    "camera.set(cv2.CAP_PROP_FRAME_HEIGHT, w * 3/4) \n",
    "\n",
    "# capture loop\n",
    "while True:\n",
    "    \n",
    "    # get frame\n",
    "    ret, frame = camera.read()\n",
    "    \n",
    "    # get frame size\n",
    "    w, h = frame.shape[:2]\n",
    "    \n",
    "    # mirror the frame (my camera mirrors by default)\n",
    "    frame = cv2.flip(frame, 1)\n",
    "        \n",
    "\n",
    "    # Draw rectange box controller for blurring\n",
    "    xtop = ytop = 50\n",
    "    xbottom = 400\n",
    "    ybottom = 100\n",
    "    cv2.rectangle(frame, (ytop, xtop), (ybottom, xbottom), (0,0,255), 2)\n",
    "    \n",
    "    # Extract out the rectangular box\n",
    "    rect_box = frame[xtop:xbottom, ytop:ybottom, :]\n",
    "    rect_box = cv2.cvtColor(rect_box, cv2.COLOR_BGR2GRAY)\n",
    "    \n",
    "    ret, rect_box_mask = cv2.threshold(rect_box, 120, 255, cv2.THRESH_BINARY)\n",
    "    total_box_pixel_count = len(rect_box_mask) * len(rect_box_mask[0])\n",
    "    masked_pixel_count = np.count_nonzero(rect_box_mask)\n",
    "    \n",
    "    percent_covered = int((masked_pixel_count / total_box_pixel_count) * 100)\n",
    "    \n",
    "    # Show percentage blurness to user\n",
    "    cv2.putText(frame,str(percent_covered) + '%',(10,470), cv2.FONT_HERSHEY_SIMPLEX, 3,(255,255,255),2)    \n",
    "    \n",
    "    ksize = percent_covered + int(percent_covered % 2 == 0) \n",
    "    dst = cv2.GaussianBlur(frame,(ksize,ksize), 0)\n",
    "    \n",
    "    # Display the frame with blurness applied\n",
    "    cv2.imshow('blur', dst)\n",
    "    \n",
    "    # exit on ESC press\n",
    "    if cv2.waitKey(5) == 27:\n",
    "        break\n",
    "        \n",
    "# clean up\n",
    "cv2.destroyAllWindows()\n",
    "camera.release()\n",
    "cv2.waitKey(1) # extra waitKey sometimes needed to close camera window"
   ]
  },
  {
   "cell_type": "code",
   "execution_count": null,
   "metadata": {},
   "outputs": [],
   "source": []
  },
  {
   "cell_type": "code",
   "execution_count": null,
   "metadata": {},
   "outputs": [],
   "source": []
  }
 ],
 "metadata": {
  "kernelspec": {
   "display_name": "Python 3",
   "language": "python",
   "name": "python3"
  },
  "language_info": {
   "codemirror_mode": {
    "name": "ipython",
    "version": 3
   },
   "file_extension": ".py",
   "mimetype": "text/x-python",
   "name": "python",
   "nbconvert_exporter": "python",
   "pygments_lexer": "ipython3",
   "version": "3.6.2"
  }
 },
 "nbformat": 4,
 "nbformat_minor": 2
}
